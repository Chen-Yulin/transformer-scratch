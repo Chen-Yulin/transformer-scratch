{
 "cells": [
  {
   "cell_type": "code",
   "execution_count": 1,
   "id": "adced780-1541-43e6-9e05-8b912922c97c",
   "metadata": {},
   "outputs": [],
   "source": [
    "from pathlib import Path\n",
    "import torch\n",
    "import torch.nn as nn\n",
    "from config import get_config, get_weights_file_path\n",
    "from train import get_model, get_ds, run_validations\n",
    "from translate import translate"
   ]
  },
  {
   "cell_type": "code",
   "execution_count": 2,
   "id": "bb396e7f-444d-428e-a662-68be3917c206",
   "metadata": {},
   "outputs": [
    {
     "name": "stdout",
     "output_type": "stream",
     "text": [
      "Using device: cuda\n",
      "Max len src: 309\n",
      "Max len tgt: 274\n"
     ]
    }
   ],
   "source": [
    "# Define the device\n",
    "device = torch.device(\"cuda\" if torch.cuda.is_available() else \"cpu\")\n",
    "print(\"Using device:\", device)\n",
    "config = get_config()\n",
    "train_dataloader, val_dataloader, tokenizer_src, tokenizer_tgt = get_ds(config)\n",
    "model = get_model(config, tokenizer_src.get_vocab_size(), tokenizer_tgt.get_vocab_size()).to(device)"
   ]
  },
  {
   "cell_type": "code",
   "execution_count": 7,
   "id": "d795c936-4554-4d8a-b9d4-0ed7c14ef8c7",
   "metadata": {},
   "outputs": [
    {
     "name": "stderr",
     "output_type": "stream",
     "text": [
      "/tmp/ipykernel_257591/3199976673.py:3: FutureWarning: You are using `torch.load` with `weights_only=False` (the current default value), which uses the default pickle module implicitly. It is possible to construct malicious pickle data which will execute arbitrary code during unpickling (See https://github.com/pytorch/pytorch/blob/main/SECURITY.md#untrusted-models for more details). In a future release, the default value for `weights_only` will be flipped to `True`. This limits the functions that could be executed during unpickling. Arbitrary objects will no longer be allowed to be loaded via this mode unless they are explicitly allowlisted by the user via `torch.serialization.add_safe_globals`. We recommend you start setting `weights_only=True` for any use case where you don't have full control of the loaded file. Please open an issue on GitHub for any issues related to this experimental feature.\n",
      "  state = torch.load(model_filename)\n"
     ]
    },
    {
     "data": {
      "text/plain": [
       "<All keys matched successfully>"
      ]
     },
     "execution_count": 7,
     "metadata": {},
     "output_type": "execute_result"
    }
   ],
   "source": [
    "# Load the pretrained weights\n",
    "model_filename = get_weights_file_path(config, \"09\")\n",
    "state = torch.load(model_filename)\n",
    "model.load_state_dict(state['model_state_dict'])"
   ]
  },
  {
   "cell_type": "code",
   "execution_count": 8,
   "id": "85556583-c884-4ed7-bef6-86c1260c698b",
   "metadata": {},
   "outputs": [
    {
     "name": "stdout",
     "output_type": "stream",
     "text": [
      "--------------------------------------------------------------------------------\n",
      "SOURCE: We were a little uneasy, however, when we found it snowed one whole day and a night so fast that we could not travel; but he bid us be easy; we should soon be past it all: we found, indeed, that we began to descend every day, and to come more north than before; and so, depending upon our guide, we went on.\n",
      "TARGET: In fatti non tardò il cruccio per noi di veder nevicare tutto un giorno e una notte neve sì fitta che ne costrinse a fermarci. Ma il nostro conduttore ne dicea che stessimo di buon animo, e che presto saremmo fuori d’ogni travaglio.\n",
      "PREDICTED: Noi avevamo fatto un po ’ di tempo , quando avevamo rinunziato a ogni giorno , e ci eravamo stati di notte ; ma non potevamo fare che ci saremmo stati ; ma ci tutti i nostri giorni dopo ci ; e ci tutti i nostri computi a casa , e ci più di quanto ci .\n",
      "--------------------------------------------------------------------------------\n",
      "SOURCE: He saw nothing but her clear, true eyes, frightened by the same joy of love which filled his own heart.\n",
      "TARGET: Egli vedeva soltanto i chiari occhi di lei, sinceri, spaventati dalla stessa gioia di amore che riempiva il cuore di lui.\n",
      "PREDICTED: Egli non vedeva nulla di straordinario , ma gli occhi di lei , la stessa gioia della propria gioia , che la sua gioia gli riempiva la propria anima .\n",
      "--------------------------------------------------------------------------------\n",
      "SOURCE: Principalities are either hereditary, in which the family has been long established; or they are new.\n",
      "TARGET: E' principati sono o ereditarii, de' quali el sangue del loro signore ne sia suto lungo tempo principe, o e' sono nuovi.\n",
      "PREDICTED: E ' sono o le figlie della famiglia , sono ancora le quali sono stati nuovi .\n",
      "--------------------------------------------------------------------------------\n",
      "SOURCE: He stood in the porch of the Karenins' house as one in a maze, and did not know what to do next.\n",
      "TARGET: Egli stava fermo sulla scala di casa Karenin, come smemorato, senza sapere cosa fare.\n",
      "PREDICTED: Egli stava in piedi sulla scala del giardino , come un ’ attrice e non sapeva cosa dire .\n",
      "--------------------------------------------------------------------------------\n",
      "SOURCE: In a few minutes he overtook Kitty and her mother.\n",
      "TARGET: Dopo qualche minuto il colonnello le raggiunse.\n",
      "PREDICTED: A pochi minuti egli si era già allontanato dalla madre .\n",
      "--------------------------------------------------------------------------------\n",
      "SOURCE: But he only understood this much later. Now he only saw that Makhotin was quickly galloping away, while he, reeling, stood alone on the muddy, stationary ground; before him, breathing heavily, lay Frou-Frou, who, bending her head toward him, gazed at him with her beautiful eyes.\n",
      "TARGET: In quel momento vedeva solo che Machotin si allontanava veloce, e lui, barcollante, era rimasto solo sulla terra immota, fangosa; lì davanti, respirando greve, giaceva Frou-Frou che, piegando la testa verso di lui, lo guardava con i suoi occhi splendidi.\n",
      "PREDICTED: Ma egli capì già questo , ma vide che Machotin si era già , e che il bestiame era dinanzi a lui , di nuovo e di nuovo , , dinanzi a lui , lo guardò dinanzi a sé , e con gli occhi fissi .\n",
      "--------------------------------------------------------------------------------\n",
      "SOURCE: But just then another friendly greeting stopped Vronsky.\n",
      "TARGET: Ma dopo di lui di nuovo un saluto amichevole lo fermò.\n",
      "PREDICTED: Ma in un altro tratto Vronskij si fermò .\n",
      "--------------------------------------------------------------------------------\n",
      "SOURCE: Accordingly, I spent some time to find out the most retired parts of the island; and I pitched upon one, which was as private, indeed, as my heart could wish: it was a little damp piece of ground in the middle of the hollow and thick woods, where, as is observed, I almost lost myself once before, endeavouring to come back that way from the eastern part of the island.\n",
      "TARGET: Fermo in tale proposito, ed impiegati alcuni giorni nel trovar gli angoli più remoti dell’isola, m’avvenne d’adocchiarne uno veramente segregato quanto mai io poteva desiderarlo: un pezzo di terra umida posto in mezzo a profondi e folti boschi, a quegli stessi ove, come osservai dianzi, mi accadde quasi di smarrirmi nel volere, durante il mio primo viaggio, tornare a casa dalla parte orientale dell’isola.\n",
      "PREDICTED: In somma , per qualche tempo mi posi in Inghilterra ; e poichè , come dissi , a cuore , era il mio cuore , la mia paura , perchè poteva essere in pezzi di boschi o dodici miglia in terra , ove mi la via del monte , e che mi in disparte , non mi più di quella distanza di essa .\n",
      "--------------------------------------------------------------------------------\n",
      "SOURCE: And here is the garden of Vrede's country house.\n",
      "TARGET: Ecco anche il giardino della villa governativa della Vrede.\n",
      "PREDICTED: E qui c ’ è il giardino di casa del giardino .\n",
      "--------------------------------------------------------------------------------\n",
      "SOURCE: He decided completely to reverse his former methods of farming.\n",
      "TARGET: Aveva deciso di dare un aspetto del tutto diverso all’azienda di prima.\n",
      "PREDICTED: Si decise di nuovo il suo aspetto di prima di prima .\n"
     ]
    }
   ],
   "source": [
    "run_validations(model, val_dataloader, tokenizer_src, tokenizer_tgt, config['seq_len'], device, lambda msg: print(msg), 0, None, num_example=10)"
   ]
  },
  {
   "cell_type": "code",
   "execution_count": null,
   "id": "dc4808e0-fd0e-485b-8983-b0683794be7a",
   "metadata": {},
   "outputs": [],
   "source": []
  }
 ],
 "metadata": {
  "kernelspec": {
   "display_name": "Python 3 (ipykernel)",
   "language": "python",
   "name": "python3"
  },
  "language_info": {
   "codemirror_mode": {
    "name": "ipython",
    "version": 3
   },
   "file_extension": ".py",
   "mimetype": "text/x-python",
   "name": "python",
   "nbconvert_exporter": "python",
   "pygments_lexer": "ipython3",
   "version": "3.10.16"
  }
 },
 "nbformat": 4,
 "nbformat_minor": 5
}
